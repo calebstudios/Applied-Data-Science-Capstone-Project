{
 "cells": [
  {
   "cell_type": "markdown",
   "metadata": {},
   "source": [
    "##### Importing Needed Packages"
   ]
  },
  {
   "cell_type": "code",
   "execution_count": 1,
   "metadata": {},
   "outputs": [],
   "source": [
    "import json\n",
    "import wget\n",
    "import folium\n",
    "import requests\n",
    "import numpy as np\n",
    "import pandas as pd\n",
    "import matplotlib.cm as cm\n",
    "import matplotlib.colors as colors\n",
    "from sklearn.cluster import KMeans\n",
    "from geopy.geocoders import Nominatim\n",
    "pd.set_option('display.max_rows', None)\n",
    "from pandas.io.json import json_normalize\n",
    "pd.set_option('display.max_columns', None)\n",
    "from sklearn.tree import DecisionTreeClassifier"
   ]
  },
  {
   "cell_type": "markdown",
   "metadata": {},
   "source": [
    "### Data Preparation\n",
    "#### Data Preproccessing\n",
    "##### Downloading the data and assigning it to a dataframe"
   ]
  },
  {
   "cell_type": "code",
   "execution_count": 2,
   "metadata": {},
   "outputs": [
    {
     "name": "stdout",
     "output_type": "stream",
     "text": [
      "\r",
      "  0% [                                                                              ]     0 / 92840\r",
      "  8% [......                                                                        ]  8192 / 92840\r",
      " 17% [.............                                                                 ] 16384 / 92840\r",
      " 26% [....................                                                          ] 24576 / 92840\r",
      " 35% [...........................                                                   ] 32768 / 92840\r",
      " 44% [..................................                                            ] 40960 / 92840\r",
      " 52% [.........................................                                     ] 49152 / 92840\r",
      " 61% [................................................                              ] 57344 / 92840\r",
      " 70% [.......................................................                       ] 65536 / 92840\r",
      " 79% [.............................................................                 ] 73728 / 92840\r",
      " 88% [....................................................................          ] 81920 / 92840\r",
      " 97% [...........................................................................   ] 90112 / 92840\r",
      "100% [..............................................................................] 92840 / 92840"
     ]
    },
    {
     "data": {
      "text/plain": [
       "'southcarolina_data (3).json'"
      ]
     },
     "execution_count": 2,
     "metadata": {},
     "output_type": "execute_result"
    }
   ],
   "source": [
    "wget.download('https://drive.google.com/uc?id=1caRMmH_ZC-mgnGOwgDdJhmiTHnztliQy&export=download', 'southcarolina_data.json')"
   ]
  },
  {
   "cell_type": "code",
   "execution_count": 3,
   "metadata": {},
   "outputs": [],
   "source": [
    "with open('southcarolina_data (1).json') as json_data:\n",
    "    southcarolina_data = json.load(json_data)"
   ]
  },
  {
   "cell_type": "code",
   "execution_count": 4,
   "metadata": {},
   "outputs": [],
   "source": [
    "county_data = southcarolina_data"
   ]
  },
  {
   "cell_type": "code",
   "execution_count": 5,
   "metadata": {},
   "outputs": [],
   "source": [
    "column_names = ['City', 'County', 'Latitude', 'Longitude']"
   ]
  },
  {
   "cell_type": "code",
   "execution_count": 6,
   "metadata": {},
   "outputs": [],
   "source": [
    "counties = pd.DataFrame(columns = column_names)"
   ]
  },
  {
   "cell_type": "code",
   "execution_count": 7,
   "metadata": {},
   "outputs": [],
   "source": [
    "for i in county_data:\n",
    "    city = county_name = i[\"City\"]\n",
    "    county_name = i[\"County\"]\n",
    "    county_lat = i[\"Latitude\"]\n",
    "    county_long = i[\"Longitude\"]\n",
    "    county_coords = county_lat + county_long\n",
    "    counties = counties.append({'City': city,\n",
    "                               'County': county_name,\n",
    "                               'Latitude': county_lat,\n",
    "                               'Longitude': county_long}, ignore_index = True)"
   ]
  },
  {
   "cell_type": "markdown",
   "metadata": {},
   "source": [
    "#### Filtering out Charleston"
   ]
  },
  {
   "cell_type": "code",
   "execution_count": 17,
   "metadata": {},
   "outputs": [
    {
     "data": {
      "text/plain": [
       "376"
      ]
     },
     "execution_count": 17,
     "metadata": {},
     "output_type": "execute_result"
    }
   ],
   "source": [
    "counties['City'].unique()\n",
    "counties['City'].nunique()"
   ]
  },
  {
   "cell_type": "code",
   "execution_count": 20,
   "metadata": {},
   "outputs": [
    {
     "name": "stdout",
     "output_type": "stream",
     "text": [
      "           City      County   Latitude  Longitude\n",
      "193  Charleston  Charleston  32.779126   -79.9355\n",
      "194  Charleston  Charleston   32.84885  -79.85773\n",
      "195  Charleston  Charleston  32.799326  -79.94813\n",
      "198  Charleston  Charleston  32.918757   -80.0228\n",
      "199  Charleston  Charleston  32.794841    -80.005\n",
      "(16, 4)\n",
      "           City      County   Latitude  Longitude\n",
      "193  Charleston  Charleston  32.779126   -79.9355\n",
      "194  Charleston  Charleston   32.84885  -79.85773\n",
      "195  Charleston  Charleston  32.799326  -79.94813\n",
      "198  Charleston  Charleston  32.918757   -80.0228\n",
      "199  Charleston  Charleston  32.794841    -80.005\n",
      "200  Charleston  Charleston   32.84885  -79.85773\n",
      "202  Charleston  Charleston   32.73727  -79.95409\n",
      "203  Charleston  Charleston   32.84885  -79.85773\n",
      "204  Charleston  Charleston  32.821238  -80.05353\n",
      "206  Charleston  Charleston   32.84885  -79.85773\n",
      "207  Charleston  Charleston   32.84885  -79.85773\n",
      "211  Charleston  Charleston   32.84885  -79.85773\n",
      "212  Charleston  Charleston  32.981952  -80.07363\n",
      "213  Charleston  Charleston  32.783076  -79.93701\n",
      "214  Charleston  Charleston  32.786176  -79.94711\n",
      "263  Charleston    Berkeley   32.91583   -79.8846\n"
     ]
    }
   ],
   "source": [
    "CH = counties[counties['City'] == 'Charleston']\n",
    "print(CH.head())\n",
    "print(CH.shape)\n",
    "print(CH)"
   ]
  },
  {
   "cell_type": "markdown",
   "metadata": {},
   "source": [
    "#### Visualizing the Data"
   ]
  },
  {
   "cell_type": "code",
   "execution_count": 10,
   "metadata": {},
   "outputs": [],
   "source": [
    "address = \"Charleston, SC\""
   ]
  },
  {
   "cell_type": "code",
   "execution_count": 11,
   "metadata": {},
   "outputs": [],
   "source": [
    "geolocation = Nominatim(user_agent = \"SC Explorer\")\n",
    "location = geolocation.geocode(address)\n",
    "latitude = location.latitude\n",
    "longitude = location.longitude"
   ]
  },
  {
   "cell_type": "markdown",
   "metadata": {},
   "source": [
    "##### Creating a map of Charleston using the Latitude and Longitude values"
   ]
  },
  {
   "cell_type": "code",
   "execution_count": 12,
   "metadata": {},
   "outputs": [],
   "source": [
    "map_CH = folium.Map(location = [latitude, longitude], zoom_start = 10)"
   ]
  },
  {
   "cell_type": "markdown",
   "metadata": {},
   "source": [
    "##### Adding Markers to the Map"
   ]
  },
  {
   "cell_type": "code",
   "execution_count": 13,
   "metadata": {},
   "outputs": [
    {
     "name": "stderr",
     "output_type": "stream",
     "text": [
      "<ipython-input-13-b2d76b5f6ee1>:1: SettingWithCopyWarning: \n",
      "A value is trying to be set on a copy of a slice from a DataFrame.\n",
      "Try using .loc[row_indexer,col_indexer] = value instead\n",
      "\n",
      "See the caveats in the documentation: https://pandas.pydata.org/pandas-docs/stable/user_guide/indexing.html#returning-a-view-versus-a-copy\n",
      "  CH['Latitude'] = CH.Latitude.astype(float)\n",
      "<ipython-input-13-b2d76b5f6ee1>:2: SettingWithCopyWarning: \n",
      "A value is trying to be set on a copy of a slice from a DataFrame.\n",
      "Try using .loc[row_indexer,col_indexer] = value instead\n",
      "\n",
      "See the caveats in the documentation: https://pandas.pydata.org/pandas-docs/stable/user_guide/indexing.html#returning-a-view-versus-a-copy\n",
      "  CH['Longitude'] = CH.Longitude.astype(float)\n"
     ]
    },
    {
     "data": {
      "text/plain": [
       "City          object\n",
       "County        object\n",
       "Latitude     float64\n",
       "Longitude    float64\n",
       "dtype: object"
      ]
     },
     "execution_count": 13,
     "metadata": {},
     "output_type": "execute_result"
    }
   ],
   "source": [
    "CH['Latitude'] = CH.Latitude.astype(float)\n",
    "CH['Longitude'] = CH.Longitude.astype(float)\n",
    "CH.dtypes"
   ]
  },
  {
   "cell_type": "code",
   "execution_count": 14,
   "metadata": {},
   "outputs": [],
   "source": [
    "for i, j, k in zip(CH['Latitude'], CH['Longitude'], CH['County']):\n",
    "    k = folium.Popup(k, parse_html = True)\n",
    "    folium.CircleMarker(\n",
    "    [i, j], \n",
    "    radius = 7,\n",
    "    popup = k,\n",
    "    color = '#660000',\n",
    "    fill = True,\n",
    "    fill_color = '#f0ab00',\n",
    "    fill_opacity = 0.7,\n",
    "    parse_html = False).add_to(map_CH)"
   ]
  },
  {
   "cell_type": "code",
   "execution_count": 15,
   "metadata": {},
   "outputs": [
    {
     "data": {
      "text/html": [
       "<div style=\"width:100%;\"><div style=\"position:relative;width:100%;height:0;padding-bottom:60%;\"><span style=\"color:#565656\">Make this Notebook Trusted to load map: File -> Trust Notebook</span><iframe src=\"about:blank\" style=\"position:absolute;width:100%;height:100%;left:0;top:0;border:none !important;\" data-html=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 onload=\"this.contentDocument.open();this.contentDocument.write(atob(this.getAttribute('data-html')));this.contentDocument.close();\" allowfullscreen webkitallowfullscreen mozallowfullscreen></iframe></div></div>"
      ],
      "text/plain": [
       "<folium.folium.Map at 0x19fa0adf520>"
      ]
     },
     "execution_count": 15,
     "metadata": {},
     "output_type": "execute_result"
    }
   ],
   "source": [
    "map_CH"
   ]
  },
  {
   "cell_type": "code",
   "execution_count": null,
   "metadata": {},
   "outputs": [],
   "source": []
  }
 ],
 "metadata": {
  "kernelspec": {
   "display_name": "Python 3",
   "language": "python",
   "name": "python3"
  },
  "language_info": {
   "codemirror_mode": {
    "name": "ipython",
    "version": 3
   },
   "file_extension": ".py",
   "mimetype": "text/x-python",
   "name": "python",
   "nbconvert_exporter": "python",
   "pygments_lexer": "ipython3",
   "version": "3.8.3"
  }
 },
 "nbformat": 4,
 "nbformat_minor": 4
}
