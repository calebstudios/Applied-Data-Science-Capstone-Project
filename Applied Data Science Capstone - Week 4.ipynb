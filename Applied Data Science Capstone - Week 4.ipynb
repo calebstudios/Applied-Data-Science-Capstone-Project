{
 "cells": [
  {
   "cell_type": "markdown",
   "metadata": {},
   "source": [
    "<h1>Idea for Capstone Project</h1>"
   ]
  },
  {
   "cell_type": "markdown",
   "metadata": {},
   "source": [
    "My brother is wanting to know the optimal location to set up a restaurant in Charleston, South Carolina (SC). He wants to know the most relaxing and all-around best restuarants in Charleston, SC along with the top five dishes served in Charleston. He needs me to write a detailed research article outlining the optimal location along with steps to take in placing the restuarant there. "
   ]
  },
  {
   "cell_type": "markdown",
   "metadata": {},
   "source": [
    "<h2><i>To-Do List</i></h2>"
   ]
  },
  {
   "cell_type": "markdown",
   "metadata": {},
   "source": [
    "* What defines an optimal location for a restaurant? Variables should be measured such as traffic, population density, and the proximity of the ingredients needed to cook the food. These variables should then hold a certain weight when applying them to the machine learning algorithm."
   ]
  },
  {
   "cell_type": "markdown",
   "metadata": {},
   "source": [
    "* The best restaurants in SC should be analyzed as well as the one's with the most optimal location. Futhermore, getting data on the most popular dshes in SC would be significant in ensuring that the restaurant is successful."
   ]
  },
  {
   "cell_type": "markdown",
   "metadata": {},
   "source": [
    "* Exploratory analysis should be done to decide the best machine learning method to use. Most likely, using a decision tree will help in finding the optimal location for the restaurant. "
   ]
  },
  {
   "cell_type": "markdown",
   "metadata": {},
   "source": [
    "<h2><i>Description of Project</i></h2>"
   ]
  },
  {
   "cell_type": "markdown",
   "metadata": {},
   "source": [
    "<h4><em>What should be the first steps?</em></h4>"
   ]
  },
  {
   "cell_type": "markdown",
   "metadata": {},
   "source": [
    "1. A dataset with the City, County, Longitude, and Latitude of areas in South Carolina. This can be used to build a clustering algorithm on South Carolina and make it easier to locate and find restaurants within more precise vicinities. "
   ]
  },
  {
   "cell_type": "markdown",
   "metadata": {},
   "source": [
    "2. The Foursquare API will be used to get venue search and will return a list of venues near the requested location building the framework for the restaurants in South Carolina (Regular)"
   ]
  },
  {
   "cell_type": "markdown",
   "metadata": {},
   "source": [
    "3. The Venue Explore data will be used to recommend different venues around a relative location. (Regular)"
   ]
  },
  {
   "cell_type": "markdown",
   "metadata": {},
   "source": [
    "4. The Venue Selection will be used to report selections of venues based on search, explore, or suggestcompletion request. (Regular)"
   ]
  },
  {
   "cell_type": "markdown",
   "metadata": {},
   "source": [
    "5. The Venue Trending will be used to get information on the venues that have the most check-ins at the current location."
   ]
  },
  {
   "cell_type": "markdown",
   "metadata": {},
   "source": [
    "6. K-Means clustering will be used on venues such that:\n",
    "   * K-Means will be used on randomly generated datasets\n",
    "   * K-Means will be used for customer segmentation"
   ]
  },
  {
   "cell_type": "code",
   "execution_count": null,
   "metadata": {},
   "outputs": [],
   "source": []
  }
 ],
 "metadata": {
  "kernelspec": {
   "display_name": "Python 3",
   "language": "python",
   "name": "python3"
  },
  "language_info": {
   "codemirror_mode": {
    "name": "ipython",
    "version": 3
   },
   "file_extension": ".py",
   "mimetype": "text/x-python",
   "name": "python",
   "nbconvert_exporter": "python",
   "pygments_lexer": "ipython3",
   "version": "3.8.3"
  }
 },
 "nbformat": 4,
 "nbformat_minor": 4
}
